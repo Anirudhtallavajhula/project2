{
  "metadata": {
    "kernelspec": {
      "language": "python",
      "display_name": "Python 3",
      "name": "python3"
    },
    "language_info": {
      "name": "python",
      "version": "3.10.14",
      "mimetype": "text/x-python",
      "codemirror_mode": {
        "name": "ipython",
        "version": 3
      },
      "pygments_lexer": "ipython3",
      "nbconvert_exporter": "python",
      "file_extension": ".py"
    },
    "kaggle": {
      "accelerator": "none",
      "dataSources": [
        {
          "sourceId": 1207035,
          "sourceType": "datasetVersion",
          "datasetId": 688532
        }
      ],
      "dockerImageVersionId": 30786,
      "isInternetEnabled": true,
      "language": "python",
      "sourceType": "notebook",
      "isGpuEnabled": false
    },
    "colab": {
      "name": "Predective project",
      "provenance": []
    }
  },
  "nbformat_minor": 0,
  "nbformat": 4,
  "cells": [
    {
      "source": [
        "# IMPORTANT: RUN THIS CELL IN ORDER TO IMPORT YOUR KAGGLE DATA SOURCES,\n",
        "# THEN FEEL FREE TO DELETE THIS CELL.\n",
        "# NOTE: THIS NOTEBOOK ENVIRONMENT DIFFERS FROM KAGGLE'S PYTHON\n",
        "# ENVIRONMENT SO THERE MAY BE MISSING LIBRARIES USED BY YOUR\n",
        "# NOTEBOOK.\n",
        "import kagglehub\n",
        "laotse_credit_risk_dataset_path = kagglehub.dataset_download('laotse/credit-risk-dataset')\n",
        "\n",
        "print('Data source import complete.')\n"
      ],
      "metadata": {
        "id": "EaATSJW0AP7j"
      },
      "cell_type": "code",
      "outputs": [],
      "execution_count": null
    },
    {
      "cell_type": "code",
      "source": [
        "# This Python 3 environment comes with many helpful analytics libraries installed\n",
        "# It is defined by the kaggle/python Docker image: https://github.com/kaggle/docker-python\n",
        "# For example, here's several helpful packages to load\n",
        "\n",
        "import numpy as np # linear algebra\n",
        "import pandas as pd # data processing, CSV file I/O (e.g. pd.read_csv)\n",
        "import seaborn as sns\n",
        "import matplotlib.pyplot as plt\n",
        "# Input data files are available in the read-only \"../input/\" directory\n",
        "# For example, running this (by clicking run or pressing Shift+Enter) will list all files under the input directory\n",
        "\n",
        "import os\n",
        "for dirname, _, filenames in os.walk('/kaggle/input'):\n",
        "    for filename in filenames:\n",
        "        print(os.path.join(dirname, filename))\n",
        "\n",
        "# You can write up to 20GB to the current directory (/kaggle/working/) that gets preserved as output when you create a version using \"Save & Run All\"\n",
        "# You can also write temporary files to /kaggle/temp/, but they won't be saved outside of the current session\n",
        "import warnings\n",
        "warnings.filterwarnings('ignore')"
      ],
      "metadata": {
        "_uuid": "8f2839f25d086af736a60e9eeb907d3b93b6e0e5",
        "_cell_guid": "b1076dfc-b9ad-4769-8c92-a6c4dae69d19",
        "trusted": true,
        "execution": {
          "iopub.status.busy": "2024-11-17T18:56:28.786485Z",
          "iopub.execute_input": "2024-11-17T18:56:28.786906Z",
          "iopub.status.idle": "2024-11-17T18:56:30.270121Z",
          "shell.execute_reply.started": "2024-11-17T18:56:28.786865Z",
          "shell.execute_reply": "2024-11-17T18:56:30.268867Z"
        },
        "id": "KrQd8zSkAP7j"
      },
      "outputs": [],
      "execution_count": null
    },
    {
      "cell_type": "code",
      "source": [
        "df = pd.read_csv('/kaggle/input/credit-risk-dataset/credit_risk_dataset.csv')"
      ],
      "metadata": {
        "trusted": true,
        "execution": {
          "iopub.status.busy": "2024-11-17T19:19:28.019421Z",
          "iopub.execute_input": "2024-11-17T19:19:28.019889Z",
          "iopub.status.idle": "2024-11-17T19:19:28.097192Z",
          "shell.execute_reply.started": "2024-11-17T19:19:28.019844Z",
          "shell.execute_reply": "2024-11-17T19:19:28.096025Z"
        },
        "id": "pRwdTr81AP7j"
      },
      "outputs": [],
      "execution_count": null
    },
    {
      "cell_type": "markdown",
      "source": [
        "This dataset contains columns simulating credit bureau data. Below is a table with the feature name and explanation.\n",
        "\n",
        "![{E94256FA-43B3-49FE-97F4-9AA017CBAADB}.png](attachment:c469bab5-65eb-401f-809b-d239f4a7300b.png)\n",
        "\n",
        "The target variable will be loan_status. *Consequently, our task is reduced to a binary classification problem."
      ],
      "metadata": {
        "id": "J9vmB4waAP7k"
      }
    },
    {
      "cell_type": "code",
      "source": [
        "df.head()"
      ],
      "metadata": {
        "trusted": true,
        "execution": {
          "iopub.status.busy": "2024-11-17T19:19:29.70825Z",
          "iopub.execute_input": "2024-11-17T19:19:29.708719Z",
          "iopub.status.idle": "2024-11-17T19:19:29.728255Z",
          "shell.execute_reply.started": "2024-11-17T19:19:29.708676Z",
          "shell.execute_reply": "2024-11-17T19:19:29.726836Z"
        },
        "id": "9pM376yFAP7k"
      },
      "outputs": [],
      "execution_count": null
    },
    {
      "cell_type": "code",
      "source": [
        "df.shape"
      ],
      "metadata": {
        "trusted": true,
        "execution": {
          "iopub.status.busy": "2024-11-17T19:19:29.94546Z",
          "iopub.execute_input": "2024-11-17T19:19:29.945907Z",
          "iopub.status.idle": "2024-11-17T19:19:29.953748Z",
          "shell.execute_reply.started": "2024-11-17T19:19:29.945865Z",
          "shell.execute_reply": "2024-11-17T19:19:29.952244Z"
        },
        "id": "L12hOFiYAP7k"
      },
      "outputs": [],
      "execution_count": null
    },
    {
      "cell_type": "code",
      "source": [
        "df.info()"
      ],
      "metadata": {
        "trusted": true,
        "execution": {
          "iopub.status.busy": "2024-11-17T19:19:30.178126Z",
          "iopub.execute_input": "2024-11-17T19:19:30.178604Z",
          "iopub.status.idle": "2024-11-17T19:19:30.206695Z",
          "shell.execute_reply.started": "2024-11-17T19:19:30.178562Z",
          "shell.execute_reply": "2024-11-17T19:19:30.205447Z"
        },
        "id": "XjqiVLntAP7k"
      },
      "outputs": [],
      "execution_count": null
    },
    {
      "cell_type": "code",
      "source": [
        "df.describe()"
      ],
      "metadata": {
        "trusted": true,
        "execution": {
          "iopub.status.busy": "2024-11-17T19:19:30.39594Z",
          "iopub.execute_input": "2024-11-17T19:19:30.396699Z",
          "iopub.status.idle": "2024-11-17T19:19:30.441455Z",
          "shell.execute_reply.started": "2024-11-17T19:19:30.39665Z",
          "shell.execute_reply": "2024-11-17T19:19:30.440321Z"
        },
        "id": "u9gr9pjGAP7k"
      },
      "outputs": [],
      "execution_count": null
    },
    {
      "cell_type": "markdown",
      "source": [
        "> Let us view all categorical field values as we might need to remove them / lable encode it later\n"
      ],
      "metadata": {
        "id": "Pe6RPxFJAP7k"
      }
    },
    {
      "cell_type": "code",
      "source": [
        "for d in df.select_dtypes(include=['object']).columns.tolist():\n",
        "    print(df[d].value_counts(),'\\n')"
      ],
      "metadata": {
        "trusted": true,
        "execution": {
          "iopub.status.busy": "2024-11-17T19:19:31.340014Z",
          "iopub.execute_input": "2024-11-17T19:19:31.340481Z",
          "iopub.status.idle": "2024-11-17T19:19:31.372989Z",
          "shell.execute_reply.started": "2024-11-17T19:19:31.340436Z",
          "shell.execute_reply": "2024-11-17T19:19:31.371478Z"
        },
        "id": "FSMgbc3mAP7l"
      },
      "outputs": [],
      "execution_count": null
    },
    {
      "cell_type": "markdown",
      "source": [
        "# **Visualization**"
      ],
      "metadata": {
        "id": "Bq8i1xj_AP7l"
      }
    },
    {
      "cell_type": "code",
      "source": [
        "#showcase count of loan_status\n",
        "print(df['loan_status'].value_counts())\n",
        "sns.countplot(x ='loan_status', data = df)\n"
      ],
      "metadata": {
        "trusted": true,
        "execution": {
          "iopub.status.busy": "2024-11-17T19:19:32.972854Z",
          "iopub.execute_input": "2024-11-17T19:19:32.973321Z",
          "iopub.status.idle": "2024-11-17T19:19:33.205235Z",
          "shell.execute_reply.started": "2024-11-17T19:19:32.973277Z",
          "shell.execute_reply": "2024-11-17T19:19:33.204019Z"
        },
        "id": "UPQt1EQ4AP7l"
      },
      "outputs": [],
      "execution_count": null
    },
    {
      "cell_type": "code",
      "source": [
        "person_age_income = (\n",
        "\n",
        "    df.groupby([\"person_age\"])[\"loan_status\"].value_counts().reset_index()\n",
        "\n",
        ")\n",
        "\n",
        "total_counts = person_age_income.groupby([\"person_age\"])[\"count\"].transform(\"sum\")\n",
        "\n",
        "person_age_income[\"percentage\"] = (person_age_income[\"count\"] / total_counts) * 100\n",
        "\n",
        "print(person_age_income)"
      ],
      "metadata": {
        "trusted": true,
        "execution": {
          "iopub.status.busy": "2024-11-17T19:19:33.700281Z",
          "iopub.execute_input": "2024-11-17T19:19:33.700729Z",
          "iopub.status.idle": "2024-11-17T19:19:33.720946Z",
          "shell.execute_reply.started": "2024-11-17T19:19:33.700688Z",
          "shell.execute_reply": "2024-11-17T19:19:33.719611Z"
        },
        "id": "w7353IdNAP7l"
      },
      "outputs": [],
      "execution_count": null
    },
    {
      "cell_type": "code",
      "source": [
        "#comparing  loan status wt person's age\n",
        "\n",
        "sns.histplot(\n",
        "\n",
        "    data=person_age_income,\n",
        "\n",
        "    x=\"person_age\",\n",
        "\n",
        "    weights=\"percentage\",\n",
        "\n",
        "    hue=\"loan_status\",\n",
        "\n",
        "    multiple=\"stack\",\n",
        "\n",
        "    palette=\"coolwarm\",\n",
        "\n",
        ")\n",
        "\n",
        "\n",
        "\n",
        "plt.title(\"Person Age vs. Loan Status\")\n",
        "\n",
        "plt.xlabel(\"Person age\")\n",
        "\n",
        "plt.ylabel(\"Percentage\")\n",
        "\n",
        "plt.xticks(rotation=45)\n",
        "\n",
        "plt.tight_layout()\n",
        "\n",
        "plt.show()"
      ],
      "metadata": {
        "trusted": true,
        "execution": {
          "iopub.status.busy": "2024-11-17T19:19:34.067397Z",
          "iopub.execute_input": "2024-11-17T19:19:34.068344Z",
          "iopub.status.idle": "2024-11-17T19:19:34.518171Z",
          "shell.execute_reply.started": "2024-11-17T19:19:34.068285Z",
          "shell.execute_reply": "2024-11-17T19:19:34.516862Z"
        },
        "id": "bJ-hyKctAP7l"
      },
      "outputs": [],
      "execution_count": null
    },
    {
      "cell_type": "markdown",
      "source": [
        "Person's Age has few outlier which we can visually see but lets observe them properly in later stage."
      ],
      "metadata": {
        "id": "1WWOv7OFAP7l"
      }
    },
    {
      "cell_type": "code",
      "source": [
        "# Loan Intent\n",
        "intent_status_group = (\n",
        "\n",
        "    df.groupby([\"loan_intent\"])[\"loan_status\"].value_counts().reset_index()\n",
        "\n",
        ")\n",
        "print(intent_status_group)\n",
        "\n",
        "\n",
        "sns.histplot(\n",
        "\n",
        "    data=intent_status_group,\n",
        "\n",
        "    x=\"loan_intent\",\n",
        "\n",
        "    weights=\"count\",\n",
        "\n",
        "    hue=\"loan_status\",\n",
        "\n",
        "    multiple=\"stack\",\n",
        "\n",
        "    palette=\"coolwarm\",\n",
        "\n",
        ")\n",
        "\n",
        "\n",
        "\n",
        "plt.title(\"Loan Intent vs. Loan Status\")\n",
        "\n",
        "plt.xlabel(\"Loan Intent\")\n",
        "\n",
        "plt.ylabel(\"Count\")\n",
        "\n",
        "plt.xticks(rotation=45)\n",
        "\n",
        "plt.tight_layout()\n",
        "\n",
        "plt.show()"
      ],
      "metadata": {
        "trusted": true,
        "execution": {
          "iopub.status.busy": "2024-11-17T19:19:34.964371Z",
          "iopub.execute_input": "2024-11-17T19:19:34.964845Z",
          "iopub.status.idle": "2024-11-17T19:19:35.320137Z",
          "shell.execute_reply.started": "2024-11-17T19:19:34.964793Z",
          "shell.execute_reply": "2024-11-17T19:19:35.318932Z"
        },
        "id": "Ov859nZ9AP7l"
      },
      "outputs": [],
      "execution_count": null
    },
    {
      "cell_type": "code",
      "source": [
        "#Loan Grade\n",
        "grade_status_group = (\n",
        "\n",
        "    df.groupby([\"loan_grade\"])[\"loan_status\"].value_counts().reset_index()\n",
        "\n",
        ")\n",
        "\n",
        "total_counts = grade_status_group.groupby(\"loan_grade\")[\"count\"].transform(\"sum\")\n",
        "\n",
        "\n",
        "\n",
        "grade_status_group[\"percentage\"] = grade_status_group[\"count\"] * 100 / total_counts\n",
        "print(grade_status_group)\n",
        "sns.histplot(\n",
        "\n",
        "    data=grade_status_group,\n",
        "\n",
        "    x=\"loan_grade\",\n",
        "\n",
        "    weights=\"count\",\n",
        "\n",
        "    hue=\"loan_status\",\n",
        "\n",
        "    multiple=\"stack\",\n",
        "\n",
        "    palette=\"coolwarm\",\n",
        "\n",
        ")\n",
        "\n",
        "\n",
        "\n",
        "plt.title(\"Loan Grade vs. Loan Status\")\n",
        "\n",
        "plt.xlabel(\"Loan Grade\")\n",
        "\n",
        "plt.ylabel(\"Count\")\n",
        "\n",
        "plt.xticks(rotation=45)\n",
        "\n",
        "plt.tight_layout()\n",
        "\n",
        "plt.show()"
      ],
      "metadata": {
        "trusted": true,
        "execution": {
          "iopub.status.busy": "2024-11-17T19:19:35.440735Z",
          "iopub.execute_input": "2024-11-17T19:19:35.441462Z",
          "iopub.status.idle": "2024-11-17T19:19:35.899366Z",
          "shell.execute_reply.started": "2024-11-17T19:19:35.441415Z",
          "shell.execute_reply": "2024-11-17T19:19:35.898143Z"
        },
        "id": "X8w-nf3OAP7l"
      },
      "outputs": [],
      "execution_count": null
    },
    {
      "cell_type": "code",
      "source": [
        "#comparing what is percentage of Loan Stauts in each Loan Grade\n",
        "sns.histplot(\n",
        "\n",
        "    data=grade_status_group,\n",
        "\n",
        "    x=\"loan_grade\",\n",
        "\n",
        "    weights=\"percentage\",\n",
        "\n",
        "    hue=\"loan_status\",\n",
        "\n",
        "    multiple=\"stack\",\n",
        "\n",
        "    palette=\"coolwarm\",\n",
        "\n",
        ")\n",
        "\n",
        "\n",
        "\n",
        "plt.title(\"Loan Grade vs. Loan Status on percentage\")\n",
        "\n",
        "plt.xlabel(\"Loan Intent\")\n",
        "\n",
        "plt.ylabel(\"Percentage\")\n",
        "\n",
        "plt.xticks(rotation=45)\n",
        "\n",
        "plt.tight_layout()\n",
        "\n",
        "plt.show()"
      ],
      "metadata": {
        "trusted": true,
        "execution": {
          "iopub.status.busy": "2024-11-17T19:19:36.273133Z",
          "iopub.execute_input": "2024-11-17T19:19:36.27419Z",
          "iopub.status.idle": "2024-11-17T19:19:36.633494Z",
          "shell.execute_reply.started": "2024-11-17T19:19:36.274126Z",
          "shell.execute_reply": "2024-11-17T19:19:36.632136Z"
        },
        "id": "DqBu7HCSAP7l"
      },
      "outputs": [],
      "execution_count": null
    },
    {
      "cell_type": "markdown",
      "source": [
        "As we observer that as the Loan Grade changes( lets say decreases) percentage of Loan status to default increases"
      ],
      "metadata": {
        "id": "daf7bUBRAP7l"
      }
    },
    {
      "cell_type": "code",
      "source": [
        "#lets understand what is majour purpose of loans\n",
        "plt.figure(figsize=(15,9))\n",
        "sns.countplot(data = df, x = 'loan_intent', hue = 'loan_status')\n",
        "plt.title(\"Relationship between home ownership and loan status\")\n",
        "plt.show()"
      ],
      "metadata": {
        "trusted": true,
        "execution": {
          "iopub.status.busy": "2024-11-17T19:19:39.833979Z",
          "iopub.execute_input": "2024-11-17T19:19:39.834941Z",
          "iopub.status.idle": "2024-11-17T19:19:40.211859Z",
          "shell.execute_reply.started": "2024-11-17T19:19:39.83489Z",
          "shell.execute_reply": "2024-11-17T19:19:40.210488Z"
        },
        "id": "sEHLh-OCAP7l"
      },
      "outputs": [],
      "execution_count": null
    },
    {
      "cell_type": "markdown",
      "source": [
        "# Data Preprosessing"
      ],
      "metadata": {
        "id": "wjTtsOntAP7m"
      }
    },
    {
      "cell_type": "code",
      "source": [
        "df = pd.read_csv('/kaggle/input/credit-risk-dataset/credit_risk_dataset.csv')"
      ],
      "metadata": {
        "trusted": true,
        "execution": {
          "iopub.status.busy": "2024-11-17T19:21:22.948241Z",
          "iopub.execute_input": "2024-11-17T19:21:22.948725Z",
          "iopub.status.idle": "2024-11-17T19:21:23.020231Z",
          "shell.execute_reply.started": "2024-11-17T19:21:22.948681Z",
          "shell.execute_reply": "2024-11-17T19:21:23.018993Z"
        },
        "id": "wDMOajz8AP7m"
      },
      "outputs": [],
      "execution_count": null
    },
    {
      "cell_type": "code",
      "source": [
        "# finding null values\n",
        "print(df.isna().sum())\n"
      ],
      "metadata": {
        "trusted": true,
        "execution": {
          "iopub.status.busy": "2024-11-17T19:26:57.722223Z",
          "iopub.execute_input": "2024-11-17T19:26:57.722664Z",
          "iopub.status.idle": "2024-11-17T19:26:57.732511Z",
          "shell.execute_reply.started": "2024-11-17T19:26:57.722621Z",
          "shell.execute_reply": "2024-11-17T19:26:57.731079Z"
        },
        "id": "jBRSpT6VAP7m"
      },
      "outputs": [],
      "execution_count": null
    },
    {
      "cell_type": "code",
      "source": [
        "#filling NA values with mean\n",
        "df['person_emp_length'] = df['person_emp_length'].fillna(df['person_emp_length'].mean())\n",
        "df['loan_int_rate']= df['loan_int_rate'].fillna(df['loan_int_rate'].mean())"
      ],
      "metadata": {
        "trusted": true,
        "execution": {
          "iopub.status.busy": "2024-11-17T19:26:55.806002Z",
          "iopub.execute_input": "2024-11-17T19:26:55.806631Z",
          "iopub.status.idle": "2024-11-17T19:26:55.81727Z",
          "shell.execute_reply.started": "2024-11-17T19:26:55.806572Z",
          "shell.execute_reply": "2024-11-17T19:26:55.815913Z"
        },
        "id": "fi0JmRDTAP7m"
      },
      "outputs": [],
      "execution_count": null
    },
    {
      "cell_type": "code",
      "source": [
        "#finding duplicate records\n",
        "df.duplicated().sum()"
      ],
      "metadata": {
        "trusted": true,
        "execution": {
          "iopub.status.busy": "2024-11-17T19:24:44.12793Z",
          "iopub.execute_input": "2024-11-17T19:24:44.128471Z",
          "iopub.status.idle": "2024-11-17T19:24:44.14685Z",
          "shell.execute_reply.started": "2024-11-17T19:24:44.128426Z",
          "shell.execute_reply": "2024-11-17T19:24:44.145733Z"
        },
        "id": "iKa16MskAP7m"
      },
      "outputs": [],
      "execution_count": null
    },
    {
      "cell_type": "code",
      "source": [
        "# remove duplicate values\n",
        "df.drop_duplicates(inplace=True)"
      ],
      "metadata": {
        "trusted": true,
        "execution": {
          "iopub.status.busy": "2024-11-17T19:21:54.075113Z",
          "iopub.execute_input": "2024-11-17T19:21:54.076109Z",
          "iopub.status.idle": "2024-11-17T19:21:54.103659Z",
          "shell.execute_reply.started": "2024-11-17T19:21:54.076057Z",
          "shell.execute_reply": "2024-11-17T19:21:54.102662Z"
        },
        "id": "f7fwfAtoAP7m"
      },
      "outputs": [],
      "execution_count": null
    },
    {
      "cell_type": "code",
      "source": [
        "# removing records of person's age >100 as this are the extreem case scenarios or possibly data reading error\n",
        "df = df.drop(df[df['person_age'] > 100].index)"
      ],
      "metadata": {
        "trusted": true,
        "execution": {
          "iopub.status.busy": "2024-11-17T19:21:56.496684Z",
          "iopub.execute_input": "2024-11-17T19:21:56.497113Z",
          "iopub.status.idle": "2024-11-17T19:21:56.510142Z",
          "shell.execute_reply.started": "2024-11-17T19:21:56.497074Z",
          "shell.execute_reply": "2024-11-17T19:21:56.509019Z"
        },
        "id": "SQHJVaTZAP7m"
      },
      "outputs": [],
      "execution_count": null
    },
    {
      "cell_type": "code",
      "source": [
        "# lets label encode all categorical variables (using label encoding to preserve)\n",
        "from sklearn import preprocessing\n",
        "LE = preprocessing.LabelEncoder()\n",
        "levar = {}\n",
        "# Iterate through all categorical columns\n",
        "for col in df.select_dtypes(include=['object']).columns:\n",
        "    LE = preprocessing.LabelEncoder()\n",
        "    df[col] = LE.fit_transform(df[col])  # Perform label encoding\n",
        "    levar[col] = dict(zip(LE.classes_, LE.transform(LE.classes_)))\n",
        "\n",
        "for col, mapping in levar.items():\n",
        "    print(f\"Column: {col}\")\n",
        "    print(mapping,'\\n')"
      ],
      "metadata": {
        "trusted": true,
        "execution": {
          "iopub.status.busy": "2024-11-17T19:21:57.885271Z",
          "iopub.execute_input": "2024-11-17T19:21:57.885706Z",
          "iopub.status.idle": "2024-11-17T19:21:57.936546Z",
          "shell.execute_reply.started": "2024-11-17T19:21:57.885665Z",
          "shell.execute_reply": "2024-11-17T19:21:57.935135Z"
        },
        "id": "XyNyZYXrAP7m"
      },
      "outputs": [],
      "execution_count": null
    },
    {
      "cell_type": "code",
      "source": [
        "#lets identify the correlation between variables\n",
        "sns.heatmap(df.corr())"
      ],
      "metadata": {
        "trusted": true,
        "execution": {
          "iopub.status.busy": "2024-11-17T19:27:12.397808Z",
          "iopub.execute_input": "2024-11-17T19:27:12.398438Z",
          "iopub.status.idle": "2024-11-17T19:27:13.056044Z",
          "shell.execute_reply.started": "2024-11-17T19:27:12.398381Z",
          "shell.execute_reply": "2024-11-17T19:27:13.054765Z"
        },
        "id": "rhsekPxbAP7m"
      },
      "outputs": [],
      "execution_count": null
    },
    {
      "cell_type": "markdown",
      "source": [
        "# Model Training"
      ],
      "metadata": {
        "id": "jYIrjgvgAP7m"
      }
    },
    {
      "cell_type": "code",
      "source": [
        "# Define features and target|\n",
        "X = df.drop(columns=['loan_status'])\n",
        "y = df['loan_status']"
      ],
      "metadata": {
        "trusted": true,
        "execution": {
          "iopub.status.busy": "2024-11-17T19:32:32.112228Z",
          "iopub.execute_input": "2024-11-17T19:32:32.112682Z",
          "iopub.status.idle": "2024-11-17T19:32:32.120641Z",
          "shell.execute_reply.started": "2024-11-17T19:32:32.11264Z",
          "shell.execute_reply": "2024-11-17T19:32:32.119376Z"
        },
        "id": "rq_-6VNNAP7m"
      },
      "outputs": [],
      "execution_count": null
    },
    {
      "cell_type": "code",
      "source": [
        "from sklearn.model_selection import train_test_split\n",
        "\n",
        "# Splitting the data into training and validation sets\n",
        "X_train, X_test, y_train, y_test = train_test_split(\n",
        "    X, y, test_size=0.2, random_state=42, stratify=y\n",
        ")\n"
      ],
      "metadata": {
        "trusted": true,
        "execution": {
          "iopub.status.busy": "2024-11-17T19:37:55.78168Z",
          "iopub.execute_input": "2024-11-17T19:37:55.782148Z",
          "iopub.status.idle": "2024-11-17T19:37:55.808934Z",
          "shell.execute_reply.started": "2024-11-17T19:37:55.782106Z",
          "shell.execute_reply": "2024-11-17T19:37:55.807673Z"
        },
        "id": "HeROdOWIAP7m"
      },
      "outputs": [],
      "execution_count": null
    },
    {
      "cell_type": "code",
      "source": [
        "# scaling dataset to 0 - 1\n",
        "scaler = preprocessing.StandardScaler()\n",
        "\n",
        "\n",
        "\n",
        "X_train = scaler.fit_transform(X_train)\n",
        "X_test = scaler.transform(X_test)"
      ],
      "metadata": {
        "trusted": true,
        "execution": {
          "iopub.status.busy": "2024-11-17T19:38:02.182475Z",
          "iopub.execute_input": "2024-11-17T19:38:02.182951Z",
          "iopub.status.idle": "2024-11-17T19:38:02.202268Z",
          "shell.execute_reply.started": "2024-11-17T19:38:02.182906Z",
          "shell.execute_reply": "2024-11-17T19:38:02.200629Z"
        },
        "id": "H6Ooyz32AP7m"
      },
      "outputs": [],
      "execution_count": null
    },
    {
      "cell_type": "code",
      "source": [
        "from sklearn.metrics import accuracy_score, precision_score, recall_score, f1_score, roc_auc_score, confusion_matrix, classification_report\n",
        "from sklearn import metrics\n",
        "def print_metrics(model, y_pred, y_prob):\n",
        "    accuracy = accuracy_score(y_test, y_pred)\n",
        "    auc = roc_auc_score(y_test, y_prob)\n",
        "    report = classification_report(y_test, y_pred)\n",
        "\n",
        "    print(report)\n",
        "    accuracy = accuracy_score(y_test, y_pred)\n",
        "    print(f'ACCURACY OF THE MODEL: {accuracy:.2f}')\n",
        "\n",
        "    cm = confusion_matrix(y_test, y_pred)\n",
        "\n",
        "    plt.figure(figsize=(8, 6))\n",
        "    sns.heatmap(cm, annot=True, fmt='d', cmap='Blues', xticklabels=model.classes_, yticklabels=model.classes_)\n",
        "\n",
        "    plt.xlabel('Predicted')\n",
        "    plt.ylabel('True')\n",
        "    plt.title('Confusion Matrix')\n",
        "    plt.show()"
      ],
      "metadata": {
        "trusted": true,
        "execution": {
          "iopub.status.busy": "2024-11-17T19:47:02.578687Z",
          "iopub.execute_input": "2024-11-17T19:47:02.579224Z",
          "iopub.status.idle": "2024-11-17T19:47:02.589401Z",
          "shell.execute_reply.started": "2024-11-17T19:47:02.579149Z",
          "shell.execute_reply": "2024-11-17T19:47:02.587886Z"
        },
        "id": "T0yD1MmBAP7m"
      },
      "outputs": [],
      "execution_count": null
    },
    {
      "cell_type": "code",
      "source": [
        "#Random Forest classifier\n",
        "from sklearn.ensemble import RandomForestClassifier\n",
        "clf = RandomForestClassifier(n_estimators = 100, random_state=42)\n",
        "clf.fit(X_train, y_train)\n",
        "y_pred = clf.predict(X_test)\n",
        "\n",
        "print_metrics(clf,y_pred,y_test)"
      ],
      "metadata": {
        "trusted": true,
        "execution": {
          "iopub.status.busy": "2024-11-17T19:47:04.566088Z",
          "iopub.execute_input": "2024-11-17T19:47:04.567259Z",
          "iopub.status.idle": "2024-11-17T19:47:09.278956Z",
          "shell.execute_reply.started": "2024-11-17T19:47:04.567192Z",
          "shell.execute_reply": "2024-11-17T19:47:09.277609Z"
        },
        "id": "dK_RsZ_TAP7n"
      },
      "outputs": [],
      "execution_count": null
    },
    {
      "cell_type": "code",
      "source": [
        "#Decision Tree\n",
        "from sklearn.tree import DecisionTreeClassifier\n",
        "decision_tree = DecisionTreeClassifier()\n",
        "\n",
        "decision_tree.fit(X_train, y_train)\n",
        "\n",
        "y_pred = decision_tree.predict(X_test)\n",
        "y_prob = decision_tree.predict_proba(X_test)[:, 1]\n",
        "\n",
        "print_metrics(decision_tree, y_pred, y_prob)"
      ],
      "metadata": {
        "trusted": true,
        "execution": {
          "iopub.status.busy": "2024-11-17T19:48:33.403548Z",
          "iopub.execute_input": "2024-11-17T19:48:33.404128Z",
          "iopub.status.idle": "2024-11-17T19:48:33.953305Z",
          "shell.execute_reply.started": "2024-11-17T19:48:33.404072Z",
          "shell.execute_reply": "2024-11-17T19:48:33.951639Z"
        },
        "id": "34sb32Z1AP7n"
      },
      "outputs": [],
      "execution_count": null
    },
    {
      "cell_type": "code",
      "source": [
        "#KNN\n",
        "from sklearn.neighbors import KNeighborsClassifier\n",
        "KNC = KNeighborsClassifier(n_neighbors=6)\n",
        "KNC.fit(X_train, y_train)\n",
        "\n",
        "y_pred = KNC.predict(X_test)\n",
        "y_prob = KNC.predict_proba(X_test)[:, 1]\n",
        "\n",
        "print_metrics(KNC, y_pred, y_prob)"
      ],
      "metadata": {
        "trusted": true,
        "execution": {
          "iopub.status.busy": "2024-11-17T19:49:57.011418Z",
          "iopub.execute_input": "2024-11-17T19:49:57.011991Z",
          "iopub.status.idle": "2024-11-17T19:49:59.184592Z",
          "shell.execute_reply.started": "2024-11-17T19:49:57.011935Z",
          "shell.execute_reply": "2024-11-17T19:49:59.183374Z"
        },
        "id": "4BHzz_v0AP7n"
      },
      "outputs": [],
      "execution_count": null
    },
    {
      "cell_type": "code",
      "source": [],
      "metadata": {
        "trusted": true,
        "id": "WaMEeWt5AP7n"
      },
      "outputs": [],
      "execution_count": null
    }
  ]
}